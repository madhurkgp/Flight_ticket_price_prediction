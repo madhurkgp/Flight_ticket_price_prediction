{
 "cells": [
  {
   "cell_type": "code",
   "execution_count": 116,
   "metadata": {
    "collapsed": true
   },
   "outputs": [],
   "source": [
    "import pandas as pd\n",
    "import re\n",
    "import matplotlib.pyplot as plt\n",
    "import seaborn as sns\n",
    "%matplotlib inline\n",
    "from datetime import date\n",
    "from datetime import datetime, timedelta\n",
    "import holidays"
   ]
  },
  {
   "cell_type": "code",
   "execution_count": 117,
   "metadata": {},
   "outputs": [
    {
     "data": {
      "text/html": [
       "<div>\n",
       "<style>\n",
       "    .dataframe thead tr:only-child th {\n",
       "        text-align: right;\n",
       "    }\n",
       "\n",
       "    .dataframe thead th {\n",
       "        text-align: left;\n",
       "    }\n",
       "\n",
       "    .dataframe tbody tr th {\n",
       "        vertical-align: top;\n",
       "    }\n",
       "</style>\n",
       "<table border=\"1\" class=\"dataframe\">\n",
       "  <thead>\n",
       "    <tr style=\"text-align: right;\">\n",
       "      <th></th>\n",
       "      <th>Airline</th>\n",
       "      <th>Date_of_Journey</th>\n",
       "      <th>Source</th>\n",
       "      <th>Destination</th>\n",
       "      <th>Route</th>\n",
       "      <th>Dep_Time</th>\n",
       "      <th>Arrival_Time</th>\n",
       "      <th>Duration</th>\n",
       "      <th>Total_Stops</th>\n",
       "      <th>Additional_Info</th>\n",
       "      <th>Price</th>\n",
       "    </tr>\n",
       "  </thead>\n",
       "  <tbody>\n",
       "    <tr>\n",
       "      <th>0</th>\n",
       "      <td>IndiGo</td>\n",
       "      <td>24/03/2019</td>\n",
       "      <td>Banglore</td>\n",
       "      <td>New Delhi</td>\n",
       "      <td>BLR → DEL</td>\n",
       "      <td>22:20</td>\n",
       "      <td>01:10 22 Mar</td>\n",
       "      <td>2h 50m</td>\n",
       "      <td>non-stop</td>\n",
       "      <td>No info</td>\n",
       "      <td>3897</td>\n",
       "    </tr>\n",
       "    <tr>\n",
       "      <th>1</th>\n",
       "      <td>Air India</td>\n",
       "      <td>1/05/2019</td>\n",
       "      <td>Kolkata</td>\n",
       "      <td>Banglore</td>\n",
       "      <td>CCU → IXR → BBI → BLR</td>\n",
       "      <td>05:50</td>\n",
       "      <td>13:15</td>\n",
       "      <td>7h 25m</td>\n",
       "      <td>2 stops</td>\n",
       "      <td>No info</td>\n",
       "      <td>7662</td>\n",
       "    </tr>\n",
       "    <tr>\n",
       "      <th>2</th>\n",
       "      <td>Jet Airways</td>\n",
       "      <td>9/06/2019</td>\n",
       "      <td>Delhi</td>\n",
       "      <td>Cochin</td>\n",
       "      <td>DEL → LKO → BOM → COK</td>\n",
       "      <td>09:25</td>\n",
       "      <td>04:25 10 Jun</td>\n",
       "      <td>19h</td>\n",
       "      <td>2 stops</td>\n",
       "      <td>No info</td>\n",
       "      <td>13882</td>\n",
       "    </tr>\n",
       "    <tr>\n",
       "      <th>3</th>\n",
       "      <td>IndiGo</td>\n",
       "      <td>12/05/2019</td>\n",
       "      <td>Kolkata</td>\n",
       "      <td>Banglore</td>\n",
       "      <td>CCU → NAG → BLR</td>\n",
       "      <td>18:05</td>\n",
       "      <td>23:30</td>\n",
       "      <td>5h 25m</td>\n",
       "      <td>1 stop</td>\n",
       "      <td>No info</td>\n",
       "      <td>6218</td>\n",
       "    </tr>\n",
       "    <tr>\n",
       "      <th>4</th>\n",
       "      <td>IndiGo</td>\n",
       "      <td>01/03/2019</td>\n",
       "      <td>Banglore</td>\n",
       "      <td>New Delhi</td>\n",
       "      <td>BLR → NAG → DEL</td>\n",
       "      <td>16:50</td>\n",
       "      <td>21:35</td>\n",
       "      <td>4h 45m</td>\n",
       "      <td>1 stop</td>\n",
       "      <td>No info</td>\n",
       "      <td>13302</td>\n",
       "    </tr>\n",
       "  </tbody>\n",
       "</table>\n",
       "</div>"
      ],
      "text/plain": [
       "       Airline Date_of_Journey    Source Destination                  Route  \\\n",
       "0       IndiGo      24/03/2019  Banglore   New Delhi              BLR → DEL   \n",
       "1    Air India       1/05/2019   Kolkata    Banglore  CCU → IXR → BBI → BLR   \n",
       "2  Jet Airways       9/06/2019     Delhi      Cochin  DEL → LKO → BOM → COK   \n",
       "3       IndiGo      12/05/2019   Kolkata    Banglore        CCU → NAG → BLR   \n",
       "4       IndiGo      01/03/2019  Banglore   New Delhi        BLR → NAG → DEL   \n",
       "\n",
       "  Dep_Time  Arrival_Time Duration Total_Stops Additional_Info  Price  \n",
       "0    22:20  01:10 22 Mar   2h 50m    non-stop         No info   3897  \n",
       "1    05:50         13:15   7h 25m     2 stops         No info   7662  \n",
       "2    09:25  04:25 10 Jun      19h     2 stops         No info  13882  \n",
       "3    18:05         23:30   5h 25m      1 stop         No info   6218  \n",
       "4    16:50         21:35   4h 45m      1 stop         No info  13302  "
      ]
     },
     "execution_count": 117,
     "metadata": {},
     "output_type": "execute_result"
    }
   ],
   "source": [
    "df = pd.read_excel('Data_Train.xlsx')\n",
    "df.head()"
   ]
  },
  {
   "cell_type": "code",
   "execution_count": 118,
   "metadata": {},
   "outputs": [
    {
     "name": "stdout",
     "output_type": "stream",
     "text": [
      "<class 'pandas.core.frame.DataFrame'>\n",
      "Int64Index: 10682 entries, 0 to 10682\n",
      "Data columns (total 11 columns):\n",
      "Airline            10682 non-null object\n",
      "Date_of_Journey    10682 non-null object\n",
      "Source             10682 non-null object\n",
      "Destination        10682 non-null object\n",
      "Route              10682 non-null object\n",
      "Dep_Time           10682 non-null object\n",
      "Arrival_Time       10682 non-null object\n",
      "Duration           10682 non-null object\n",
      "Total_Stops        10682 non-null object\n",
      "Additional_Info    10682 non-null object\n",
      "Price              10682 non-null int64\n",
      "dtypes: int64(1), object(10)\n",
      "memory usage: 1001.4+ KB\n"
     ]
    }
   ],
   "source": [
    "df.dropna(inplace=True) #only one NAN value, therefore dropping it\n",
    "df.info()"
   ]
  },
  {
   "cell_type": "markdown",
   "metadata": {},
   "source": [
    "# Data cleaning"
   ]
  },
  {
   "cell_type": "markdown",
   "metadata": {},
   "source": [
    "Data Cleaning(part 1) :\n",
    "1. Removing date from arrival time.\n",
    "2. Converting duration into minutes.\n",
    "3. Making a new column for \n",
    "<ul>\n",
    "    <li>month of journey\n",
    "    <li>date of journey\n",
    "    <li>day of week - 0 -> monday, 1 -> tuesday ....\n",
    "\n"
   ]
  },
  {
   "cell_type": "code",
   "execution_count": 119,
   "metadata": {},
   "outputs": [
    {
     "data": {
      "text/html": [
       "<div>\n",
       "<style>\n",
       "    .dataframe thead tr:only-child th {\n",
       "        text-align: right;\n",
       "    }\n",
       "\n",
       "    .dataframe thead th {\n",
       "        text-align: left;\n",
       "    }\n",
       "\n",
       "    .dataframe tbody tr th {\n",
       "        vertical-align: top;\n",
       "    }\n",
       "</style>\n",
       "<table border=\"1\" class=\"dataframe\">\n",
       "  <thead>\n",
       "    <tr style=\"text-align: right;\">\n",
       "      <th></th>\n",
       "      <th>Airline</th>\n",
       "      <th>Date_of_Journey</th>\n",
       "      <th>Source</th>\n",
       "      <th>Destination</th>\n",
       "      <th>Route</th>\n",
       "      <th>Dep_Time</th>\n",
       "      <th>Arrival_Time</th>\n",
       "      <th>Duration</th>\n",
       "      <th>Total_Stops</th>\n",
       "      <th>Additional_Info</th>\n",
       "      <th>Price</th>\n",
       "    </tr>\n",
       "  </thead>\n",
       "  <tbody>\n",
       "    <tr>\n",
       "      <th>0</th>\n",
       "      <td>INDIGO</td>\n",
       "      <td>24/03/2019</td>\n",
       "      <td>BANGLORE</td>\n",
       "      <td>NEW DELHI</td>\n",
       "      <td>BLR → DEL</td>\n",
       "      <td>22:20</td>\n",
       "      <td>01:10 22 MAR</td>\n",
       "      <td>2H 50M</td>\n",
       "      <td>NON-STOP</td>\n",
       "      <td>NO INFO</td>\n",
       "      <td>3897</td>\n",
       "    </tr>\n",
       "    <tr>\n",
       "      <th>1</th>\n",
       "      <td>AIR INDIA</td>\n",
       "      <td>1/05/2019</td>\n",
       "      <td>KOLKATA</td>\n",
       "      <td>BANGLORE</td>\n",
       "      <td>CCU → IXR → BBI → BLR</td>\n",
       "      <td>05:50</td>\n",
       "      <td>13:15</td>\n",
       "      <td>7H 25M</td>\n",
       "      <td>2 STOPS</td>\n",
       "      <td>NO INFO</td>\n",
       "      <td>7662</td>\n",
       "    </tr>\n",
       "    <tr>\n",
       "      <th>2</th>\n",
       "      <td>JET AIRWAYS</td>\n",
       "      <td>9/06/2019</td>\n",
       "      <td>NEW DELHI</td>\n",
       "      <td>COCHIN</td>\n",
       "      <td>DEL → LKO → BOM → COK</td>\n",
       "      <td>09:25</td>\n",
       "      <td>04:25 10 JUN</td>\n",
       "      <td>19H</td>\n",
       "      <td>2 STOPS</td>\n",
       "      <td>NO INFO</td>\n",
       "      <td>13882</td>\n",
       "    </tr>\n",
       "    <tr>\n",
       "      <th>3</th>\n",
       "      <td>INDIGO</td>\n",
       "      <td>12/05/2019</td>\n",
       "      <td>KOLKATA</td>\n",
       "      <td>BANGLORE</td>\n",
       "      <td>CCU → NAG → BLR</td>\n",
       "      <td>18:05</td>\n",
       "      <td>23:30</td>\n",
       "      <td>5H 25M</td>\n",
       "      <td>1 STOP</td>\n",
       "      <td>NO INFO</td>\n",
       "      <td>6218</td>\n",
       "    </tr>\n",
       "    <tr>\n",
       "      <th>4</th>\n",
       "      <td>INDIGO</td>\n",
       "      <td>01/03/2019</td>\n",
       "      <td>BANGLORE</td>\n",
       "      <td>NEW DELHI</td>\n",
       "      <td>BLR → NAG → DEL</td>\n",
       "      <td>16:50</td>\n",
       "      <td>21:35</td>\n",
       "      <td>4H 45M</td>\n",
       "      <td>1 STOP</td>\n",
       "      <td>NO INFO</td>\n",
       "      <td>13302</td>\n",
       "    </tr>\n",
       "  </tbody>\n",
       "</table>\n",
       "</div>"
      ],
      "text/plain": [
       "       Airline Date_of_Journey     Source Destination                  Route  \\\n",
       "0       INDIGO      24/03/2019   BANGLORE   NEW DELHI              BLR → DEL   \n",
       "1    AIR INDIA       1/05/2019    KOLKATA    BANGLORE  CCU → IXR → BBI → BLR   \n",
       "2  JET AIRWAYS       9/06/2019  NEW DELHI      COCHIN  DEL → LKO → BOM → COK   \n",
       "3       INDIGO      12/05/2019    KOLKATA    BANGLORE        CCU → NAG → BLR   \n",
       "4       INDIGO      01/03/2019   BANGLORE   NEW DELHI        BLR → NAG → DEL   \n",
       "\n",
       "  Dep_Time  Arrival_Time Duration Total_Stops Additional_Info  Price  \n",
       "0    22:20  01:10 22 MAR   2H 50M    NON-STOP         NO INFO   3897  \n",
       "1    05:50         13:15   7H 25M     2 STOPS         NO INFO   7662  \n",
       "2    09:25  04:25 10 JUN      19H     2 STOPS         NO INFO  13882  \n",
       "3    18:05         23:30   5H 25M      1 STOP         NO INFO   6218  \n",
       "4    16:50         21:35   4H 45M      1 STOP         NO INFO  13302  "
      ]
     },
     "execution_count": 119,
     "metadata": {},
     "output_type": "execute_result"
    }
   ],
   "source": [
    "df = df.apply(lambda x: x.astype(str).str.upper())\n",
    "df['Price'] = df['Price'].astype(int)\n",
    "df.loc[df['Source']=='DELHI','Source'] = 'NEW DELHI'\n",
    "df.loc[df['Destination']=='DELHI','Destination'] = 'NEW DELHI'\n",
    "df.head()"
   ]
  },
  {
   "cell_type": "code",
   "execution_count": 120,
   "metadata": {
    "scrolled": false
   },
   "outputs": [
    {
     "data": {
      "text/html": [
       "<div>\n",
       "<style>\n",
       "    .dataframe thead tr:only-child th {\n",
       "        text-align: right;\n",
       "    }\n",
       "\n",
       "    .dataframe thead th {\n",
       "        text-align: left;\n",
       "    }\n",
       "\n",
       "    .dataframe tbody tr th {\n",
       "        vertical-align: top;\n",
       "    }\n",
       "</style>\n",
       "<table border=\"1\" class=\"dataframe\">\n",
       "  <thead>\n",
       "    <tr style=\"text-align: right;\">\n",
       "      <th></th>\n",
       "      <th>Airline</th>\n",
       "      <th>Date_of_Journey</th>\n",
       "      <th>Source</th>\n",
       "      <th>Destination</th>\n",
       "      <th>Route</th>\n",
       "      <th>Dep_Time</th>\n",
       "      <th>Arrival_Time</th>\n",
       "      <th>Duration</th>\n",
       "      <th>Total_Stops</th>\n",
       "      <th>Additional_Info</th>\n",
       "      <th>Price</th>\n",
       "      <th>Month</th>\n",
       "      <th>Date</th>\n",
       "      <th>Day_of_week</th>\n",
       "    </tr>\n",
       "  </thead>\n",
       "  <tbody>\n",
       "    <tr>\n",
       "      <th>0</th>\n",
       "      <td>INDIGO</td>\n",
       "      <td>2019-03-24</td>\n",
       "      <td>BANGLORE</td>\n",
       "      <td>NEW DELHI</td>\n",
       "      <td>BLR → DEL</td>\n",
       "      <td>22:20</td>\n",
       "      <td>01:10</td>\n",
       "      <td>170</td>\n",
       "      <td>NON-STOP</td>\n",
       "      <td>NO INFO</td>\n",
       "      <td>3897</td>\n",
       "      <td>3</td>\n",
       "      <td>24</td>\n",
       "      <td>6</td>\n",
       "    </tr>\n",
       "    <tr>\n",
       "      <th>1</th>\n",
       "      <td>AIR INDIA</td>\n",
       "      <td>2019-01-05</td>\n",
       "      <td>KOLKATA</td>\n",
       "      <td>BANGLORE</td>\n",
       "      <td>CCU → IXR → BBI → BLR</td>\n",
       "      <td>05:50</td>\n",
       "      <td>13:15</td>\n",
       "      <td>445</td>\n",
       "      <td>2 STOPS</td>\n",
       "      <td>NO INFO</td>\n",
       "      <td>7662</td>\n",
       "      <td>1</td>\n",
       "      <td>5</td>\n",
       "      <td>5</td>\n",
       "    </tr>\n",
       "    <tr>\n",
       "      <th>2</th>\n",
       "      <td>JET AIRWAYS</td>\n",
       "      <td>2019-09-06</td>\n",
       "      <td>NEW DELHI</td>\n",
       "      <td>COCHIN</td>\n",
       "      <td>DEL → LKO → BOM → COK</td>\n",
       "      <td>09:25</td>\n",
       "      <td>04:25</td>\n",
       "      <td>1140</td>\n",
       "      <td>2 STOPS</td>\n",
       "      <td>NO INFO</td>\n",
       "      <td>13882</td>\n",
       "      <td>9</td>\n",
       "      <td>6</td>\n",
       "      <td>4</td>\n",
       "    </tr>\n",
       "    <tr>\n",
       "      <th>3</th>\n",
       "      <td>INDIGO</td>\n",
       "      <td>2019-12-05</td>\n",
       "      <td>KOLKATA</td>\n",
       "      <td>BANGLORE</td>\n",
       "      <td>CCU → NAG → BLR</td>\n",
       "      <td>18:05</td>\n",
       "      <td>23:30</td>\n",
       "      <td>325</td>\n",
       "      <td>1 STOP</td>\n",
       "      <td>NO INFO</td>\n",
       "      <td>6218</td>\n",
       "      <td>12</td>\n",
       "      <td>5</td>\n",
       "      <td>3</td>\n",
       "    </tr>\n",
       "    <tr>\n",
       "      <th>4</th>\n",
       "      <td>INDIGO</td>\n",
       "      <td>2019-01-03</td>\n",
       "      <td>BANGLORE</td>\n",
       "      <td>NEW DELHI</td>\n",
       "      <td>BLR → NAG → DEL</td>\n",
       "      <td>16:50</td>\n",
       "      <td>21:35</td>\n",
       "      <td>285</td>\n",
       "      <td>1 STOP</td>\n",
       "      <td>NO INFO</td>\n",
       "      <td>13302</td>\n",
       "      <td>1</td>\n",
       "      <td>3</td>\n",
       "      <td>3</td>\n",
       "    </tr>\n",
       "  </tbody>\n",
       "</table>\n",
       "</div>"
      ],
      "text/plain": [
       "       Airline Date_of_Journey     Source Destination                  Route  \\\n",
       "0       INDIGO      2019-03-24   BANGLORE   NEW DELHI              BLR → DEL   \n",
       "1    AIR INDIA      2019-01-05    KOLKATA    BANGLORE  CCU → IXR → BBI → BLR   \n",
       "2  JET AIRWAYS      2019-09-06  NEW DELHI      COCHIN  DEL → LKO → BOM → COK   \n",
       "3       INDIGO      2019-12-05    KOLKATA    BANGLORE        CCU → NAG → BLR   \n",
       "4       INDIGO      2019-01-03   BANGLORE   NEW DELHI        BLR → NAG → DEL   \n",
       "\n",
       "  Dep_Time Arrival_Time  Duration Total_Stops Additional_Info  Price  Month  \\\n",
       "0    22:20        01:10       170    NON-STOP         NO INFO   3897      3   \n",
       "1    05:50        13:15       445     2 STOPS         NO INFO   7662      1   \n",
       "2    09:25        04:25      1140     2 STOPS         NO INFO  13882      9   \n",
       "3    18:05        23:30       325      1 STOP         NO INFO   6218     12   \n",
       "4    16:50        21:35       285      1 STOP         NO INFO  13302      1   \n",
       "\n",
       "   Date  Day_of_week  \n",
       "0    24            6  \n",
       "1     5            5  \n",
       "2     6            4  \n",
       "3     5            3  \n",
       "4     3            3  "
      ]
     },
     "execution_count": 120,
     "metadata": {},
     "output_type": "execute_result"
    }
   ],
   "source": [
    "df['Arrival_Time'] = df['Arrival_Time'].apply(lambda x: re.sub('\\s\\d\\d\\s\\w+','',x))\n",
    "\n",
    "df['Duration'] = pd.to_timedelta(df['Duration'])\n",
    "df['Duration'] =df['Duration'].dt.total_seconds().div(60).astype(int)\n",
    "\n",
    "df['Date_of_Journey'] = pd.to_datetime(df['Date_of_Journey'])\n",
    "df['Month'] = df['Date_of_Journey'].dt.month\n",
    "df['Date'] = df['Date_of_Journey'].dt.day\n",
    "df['Day_of_week'] = df['Date_of_Journey'].dt.dayofweek\n",
    "df.head()"
   ]
  },
  {
   "cell_type": "code",
   "execution_count": 121,
   "metadata": {},
   "outputs": [
    {
     "data": {
      "text/plain": [
       "array(['NO INFO', 'IN-FLIGHT MEAL NOT INCLUDED',\n",
       "       'NO CHECK-IN BAGGAGE INCLUDED', '1 SHORT LAYOVER',\n",
       "       '1 LONG LAYOVER', 'CHANGE AIRPORTS', 'BUSINESS CLASS',\n",
       "       'RED-EYE FLIGHT', '2 LONG LAYOVER'], dtype=object)"
      ]
     },
     "execution_count": 121,
     "metadata": {},
     "output_type": "execute_result"
    }
   ],
   "source": [
    "df['Additional_Info'].unique()"
   ]
  },
  {
   "cell_type": "markdown",
   "metadata": {},
   "source": [
    "# Indian holidays of 2019 - \n",
    "<b>2019-01-01 New Year</b><br />\n",
    "<b>2019-01-14 Makar Sankranti / Pongal</b><br />\n",
    "<b>2019-01-26 Republic Day</b><br />\n",
    "<b>2019-05-01 Labour Day</b><br />\n",
    "<b>2019-08-15 Independence Day</b><br />\n",
    "<b>2019-10-02 Gandhi Jayanti</b><br />\n",
    "<b>2019-12-25 Christmas</b><br />\n",
    "\n",
    "<p><font color=\"blue\"> Here I have imported holidays library and make a list of national holidays - Datetime celebrated in India.<\\font></p>"
   ]
  },
  {
   "cell_type": "code",
   "execution_count": 122,
   "metadata": {},
   "outputs": [],
   "source": [
    "# holidays_list = list(sorted(holidays.IND(years=2019).keys()))\n",
    "# print(holidays_list)"
   ]
  },
  {
   "cell_type": "markdown",
   "metadata": {},
   "source": [
    "#### making another list (holidays_list_2_before_after) containing dates of 1&2 days before and after a major holiday\n",
    "<p><font color=\"blue\"> Adding another column 'Isholiday' which contains value 1 if date is present in 'holidays_list_2_before_after' otherwise 0.</p>"
   ]
  },
  {
   "cell_type": "code",
   "execution_count": 123,
   "metadata": {
    "collapsed": true
   },
   "outputs": [],
   "source": [
    "# holidays_list_2_before_after = []\n",
    "# for i in holidays_list:\n",
    "#     holidays_list_2_before_after.append(i-timedelta(days=1))\n",
    "#     holidays_list_2_before_after.append(i-timedelta(days=2))\n",
    "#     holidays_list_2_before_after.append(i+timedelta(days=1))\n",
    "#     holidays_list_2_before_after.append(i+timedelta(days=2))\n",
    "# df['IsHoliday'] = [1 if x in holidays_list_2_before_after else 0 for x in df['Date_of_Journey']]\n",
    "# print(holidays_list)\n"
   ]
  },
  {
   "cell_type": "markdown",
   "metadata": {},
   "source": [
    "#### Dropping 'Date_of_Journey' & 'Route' columns."
   ]
  },
  {
   "cell_type": "code",
   "execution_count": 124,
   "metadata": {},
   "outputs": [
    {
     "data": {
      "text/html": [
       "<div>\n",
       "<style>\n",
       "    .dataframe thead tr:only-child th {\n",
       "        text-align: right;\n",
       "    }\n",
       "\n",
       "    .dataframe thead th {\n",
       "        text-align: left;\n",
       "    }\n",
       "\n",
       "    .dataframe tbody tr th {\n",
       "        vertical-align: top;\n",
       "    }\n",
       "</style>\n",
       "<table border=\"1\" class=\"dataframe\">\n",
       "  <thead>\n",
       "    <tr style=\"text-align: right;\">\n",
       "      <th></th>\n",
       "      <th>Airline</th>\n",
       "      <th>Source</th>\n",
       "      <th>Destination</th>\n",
       "      <th>Dep_Time</th>\n",
       "      <th>Arrival_Time</th>\n",
       "      <th>Duration</th>\n",
       "      <th>Total_Stops</th>\n",
       "      <th>Additional_Info</th>\n",
       "      <th>Price</th>\n",
       "      <th>Month</th>\n",
       "      <th>Date</th>\n",
       "      <th>Day_of_week</th>\n",
       "    </tr>\n",
       "  </thead>\n",
       "  <tbody>\n",
       "    <tr>\n",
       "      <th>0</th>\n",
       "      <td>INDIGO</td>\n",
       "      <td>BANGLORE</td>\n",
       "      <td>NEW DELHI</td>\n",
       "      <td>22:20</td>\n",
       "      <td>01:10</td>\n",
       "      <td>170</td>\n",
       "      <td>NON-STOP</td>\n",
       "      <td>NO INFO</td>\n",
       "      <td>3897</td>\n",
       "      <td>3</td>\n",
       "      <td>24</td>\n",
       "      <td>6</td>\n",
       "    </tr>\n",
       "    <tr>\n",
       "      <th>1</th>\n",
       "      <td>AIR INDIA</td>\n",
       "      <td>KOLKATA</td>\n",
       "      <td>BANGLORE</td>\n",
       "      <td>05:50</td>\n",
       "      <td>13:15</td>\n",
       "      <td>445</td>\n",
       "      <td>2 STOPS</td>\n",
       "      <td>NO INFO</td>\n",
       "      <td>7662</td>\n",
       "      <td>1</td>\n",
       "      <td>5</td>\n",
       "      <td>5</td>\n",
       "    </tr>\n",
       "    <tr>\n",
       "      <th>2</th>\n",
       "      <td>JET AIRWAYS</td>\n",
       "      <td>NEW DELHI</td>\n",
       "      <td>COCHIN</td>\n",
       "      <td>09:25</td>\n",
       "      <td>04:25</td>\n",
       "      <td>1140</td>\n",
       "      <td>2 STOPS</td>\n",
       "      <td>NO INFO</td>\n",
       "      <td>13882</td>\n",
       "      <td>9</td>\n",
       "      <td>6</td>\n",
       "      <td>4</td>\n",
       "    </tr>\n",
       "    <tr>\n",
       "      <th>3</th>\n",
       "      <td>INDIGO</td>\n",
       "      <td>KOLKATA</td>\n",
       "      <td>BANGLORE</td>\n",
       "      <td>18:05</td>\n",
       "      <td>23:30</td>\n",
       "      <td>325</td>\n",
       "      <td>1 STOP</td>\n",
       "      <td>NO INFO</td>\n",
       "      <td>6218</td>\n",
       "      <td>12</td>\n",
       "      <td>5</td>\n",
       "      <td>3</td>\n",
       "    </tr>\n",
       "    <tr>\n",
       "      <th>4</th>\n",
       "      <td>INDIGO</td>\n",
       "      <td>BANGLORE</td>\n",
       "      <td>NEW DELHI</td>\n",
       "      <td>16:50</td>\n",
       "      <td>21:35</td>\n",
       "      <td>285</td>\n",
       "      <td>1 STOP</td>\n",
       "      <td>NO INFO</td>\n",
       "      <td>13302</td>\n",
       "      <td>1</td>\n",
       "      <td>3</td>\n",
       "      <td>3</td>\n",
       "    </tr>\n",
       "  </tbody>\n",
       "</table>\n",
       "</div>"
      ],
      "text/plain": [
       "       Airline     Source Destination Dep_Time Arrival_Time  Duration  \\\n",
       "0       INDIGO   BANGLORE   NEW DELHI    22:20        01:10       170   \n",
       "1    AIR INDIA    KOLKATA    BANGLORE    05:50        13:15       445   \n",
       "2  JET AIRWAYS  NEW DELHI      COCHIN    09:25        04:25      1140   \n",
       "3       INDIGO    KOLKATA    BANGLORE    18:05        23:30       325   \n",
       "4       INDIGO   BANGLORE   NEW DELHI    16:50        21:35       285   \n",
       "\n",
       "  Total_Stops Additional_Info  Price  Month  Date  Day_of_week  \n",
       "0    NON-STOP         NO INFO   3897      3    24            6  \n",
       "1     2 STOPS         NO INFO   7662      1     5            5  \n",
       "2     2 STOPS         NO INFO  13882      9     6            4  \n",
       "3      1 STOP         NO INFO   6218     12     5            3  \n",
       "4      1 STOP         NO INFO  13302      1     3            3  "
      ]
     },
     "execution_count": 124,
     "metadata": {},
     "output_type": "execute_result"
    }
   ],
   "source": [
    "df = df.drop(['Date_of_Journey','Route'],axis=1)\n",
    "df.head()"
   ]
  },
  {
   "cell_type": "markdown",
   "metadata": {},
   "source": [
    "#### data cleaning for 'Total_Stops' columns (converting categorcial data to numerical data)\n",
    "<p><font color=\"blue\"> df['Total_Stops'].unique() = non-stop, 2 stops, 1 stop, 3 stops, 4 stops </p>"
   ]
  },
  {
   "cell_type": "code",
   "execution_count": 125,
   "metadata": {},
   "outputs": [],
   "source": [
    "# def cleaning_stops(x):\n",
    "#     stop_convert = {'non-stop':0,'2 stops':2,'1 stop':1,'3 stops':3,'4 stops':4}\n",
    "#     return stop_convert[x]\n",
    "# df['Total_Stops'] = df['Total_Stops'].apply(lambda x: cleaning_stops(x))\n",
    "# df.head()"
   ]
  },
  {
   "cell_type": "markdown",
   "metadata": {},
   "source": [
    "#### data cleaning for 'Additional_Info' columns (converting categorcial data to numerical data).\n",
    "<p><font color=\"blue\">\n",
    "df['Additional_Info'].unique()\n",
    "<ul>\n",
    "    <li>'No info'\n",
    "    <li>'In-flight meal not included'\n",
    "    <li>'No check-in baggage included'\n",
    "    <li>'1 Short layover'\n",
    "    <li>'No Info'\n",
    "    <li>'1 Long layover'\n",
    "    <li>'Change airports'\n",
    "    <li>'Business class'\n",
    "    <li>'Red-eye flight'\n",
    "    <li>'2 Long layover'\n",
    "</ul>\n",
    "</p>"
   ]
  },
  {
   "cell_type": "code",
   "execution_count": 126,
   "metadata": {},
   "outputs": [],
   "source": [
    "# def cleaning_info(x):\n",
    "#     info_convert = {'NO INFO':0, 'IN-FLIGHT MEAL NOT INCLUDED':1,'NO CHECK-IN BAGGAGE INCLUDED':2, \n",
    "#                     '1 SHORT LAYOVER':3,'1 LONG LAYOVER':4, 'CHANGE AIRPORTS':5, \n",
    "#                     'BUSINESS CLASS':6,'RED-EYE FLIGHT':7, '2 LONG LAYOVER':8}\n",
    "#     return info_convert[x]\n",
    "# df['Additional_Info'] = df['Additional_Info'].apply(lambda x: cleaning_info(x))\n",
    "# df.head()"
   ]
  },
  {
   "cell_type": "code",
   "execution_count": 127,
   "metadata": {},
   "outputs": [],
   "source": [
    "# print(df['Airline'].unique(),end='\\n')\n",
    "# print(df['Source'].unique(),end='\\n')\n",
    "# print(df['Destination'].unique(),end='\\n')"
   ]
  },
  {
   "cell_type": "markdown",
   "metadata": {},
   "source": [
    "#### data cleaning for 'Airline','Source','Destination' columns (converting categorcial data to numerical data).\n",
    "Airlines -> ['IndiGo' 'Air India' 'Jet Airways' 'SpiceJet' 'Multiple carriers' 'GoAir','Vistara' 'Air Asia' 'Vistara Premium economy' 'Jet Airways Business''Multiple carriers Premium economy' 'Trujet']\n",
    "<br />\n",
    "<br />\n",
    "Source -> ['Banglore' 'Kolkata' 'Delhi' 'Chennai' 'Mumbai']\n",
    "<br />\n",
    "<br />\n",
    "Destination -> ['New Delhi' 'Banglore' 'Cochin' 'Kolkata' 'Delhi' 'Hyderabad']"
   ]
  },
  {
   "cell_type": "code",
   "execution_count": 128,
   "metadata": {
    "collapsed": true
   },
   "outputs": [],
   "source": [
    "# def cleaning_airline(x):\n",
    "#     airline_dict = {'IndiGo':0,'Air India':1, 'Jet Airways':2, 'SpiceJet':3, 'Multiple carriers':4, 'GoAir':5,\n",
    "#      'Vistara':6, 'Air Asia':7, 'Vistara Premium economy':8, 'Jet Airways Business':9,\n",
    "#      'Multiple carriers Premium economy':10, 'Trujet':11}\n",
    "#     return airline_dict[x]\n",
    "\n",
    "# def cleaning_places(x):\n",
    "#     place_dict = {'Banglore':0, 'Kolkata':1, 'New Delhi':2,'Delhi':2, 'Chennai':3, 'Mumbai':4,'Cochin':5,'Hyderabad':6}\n",
    "#     return place_dict[x]\n",
    "\n",
    "# df['Airline'] = df['Airline'].apply(lambda x: cleaning_airline(x))\n",
    "# df['Source'] = df['Source'].apply(lambda x: cleaning_places(x))\n",
    "# df['Destination'] = df['Destination'].apply(lambda x: cleaning_places(x))\n"
   ]
  },
  {
   "cell_type": "code",
   "execution_count": 129,
   "metadata": {},
   "outputs": [],
   "source": [
    "X = df[['Airline','Source','Destination','Dep_Time','Arrival_Time','Duration','Total_Stops','Additional_Info','Month','Date','Day_of_week']]\n",
    "Y = df[['Price']]\n"
   ]
  },
  {
   "cell_type": "code",
   "execution_count": 131,
   "metadata": {},
   "outputs": [
    {
     "ename": "TypeError",
     "evalue": "unhashable type: 'slice'",
     "output_type": "error",
     "traceback": [
      "\u001b[1;31m---------------------------------------------------------------------------\u001b[0m",
      "\u001b[1;31mTypeError\u001b[0m                                 Traceback (most recent call last)",
      "\u001b[1;32m<ipython-input-131-df22d8c14cb2>\u001b[0m in \u001b[0;36m<module>\u001b[1;34m()\u001b[0m\n\u001b[0;32m      2\u001b[0m \u001b[1;32mfrom\u001b[0m \u001b[0msklearn\u001b[0m\u001b[1;33m.\u001b[0m\u001b[0mpreprocessing\u001b[0m \u001b[1;32mimport\u001b[0m \u001b[0mOneHotEncoder\u001b[0m\u001b[1;33m\u001b[0m\u001b[0m\n\u001b[0;32m      3\u001b[0m \u001b[0mlabelencoder\u001b[0m \u001b[1;33m=\u001b[0m \u001b[0mLabelEncoder\u001b[0m\u001b[1;33m(\u001b[0m\u001b[1;33m)\u001b[0m\u001b[1;33m\u001b[0m\u001b[0m\n\u001b[1;32m----> 4\u001b[1;33m \u001b[0mX\u001b[0m\u001b[1;33m[\u001b[0m\u001b[1;33m:\u001b[0m\u001b[1;33m,\u001b[0m\u001b[1;33m[\u001b[0m\u001b[1;36m0\u001b[0m\u001b[1;33m,\u001b[0m\u001b[1;36m1\u001b[0m\u001b[1;33m,\u001b[0m\u001b[1;36m2\u001b[0m\u001b[1;33m,\u001b[0m\u001b[1;36m6\u001b[0m\u001b[1;33m,\u001b[0m\u001b[1;36m7\u001b[0m\u001b[1;33m,\u001b[0m\u001b[1;36m8\u001b[0m\u001b[1;33m,\u001b[0m\u001b[1;36m10\u001b[0m\u001b[1;33m]\u001b[0m\u001b[1;33m]\u001b[0m \u001b[1;33m=\u001b[0m \u001b[0mlabelencoder\u001b[0m\u001b[1;33m.\u001b[0m\u001b[0mfit_transform\u001b[0m\u001b[1;33m(\u001b[0m\u001b[0mX\u001b[0m\u001b[1;33m[\u001b[0m\u001b[1;33m:\u001b[0m\u001b[1;33m,\u001b[0m\u001b[1;33m[\u001b[0m\u001b[1;36m0\u001b[0m\u001b[1;33m,\u001b[0m\u001b[1;36m1\u001b[0m\u001b[1;33m,\u001b[0m\u001b[1;36m2\u001b[0m\u001b[1;33m,\u001b[0m\u001b[1;36m6\u001b[0m\u001b[1;33m,\u001b[0m\u001b[1;36m7\u001b[0m\u001b[1;33m,\u001b[0m\u001b[1;36m8\u001b[0m\u001b[1;33m,\u001b[0m\u001b[1;36m10\u001b[0m\u001b[1;33m]\u001b[0m\u001b[1;33m]\u001b[0m\u001b[1;33m)\u001b[0m\u001b[1;33m\u001b[0m\u001b[0m\n\u001b[0m\u001b[0;32m      5\u001b[0m \u001b[0monehotencoder\u001b[0m \u001b[1;33m=\u001b[0m \u001b[0mOneHotEncoder\u001b[0m\u001b[1;33m(\u001b[0m\u001b[1;33m[\u001b[0m\u001b[1;36m0\u001b[0m\u001b[1;33m,\u001b[0m\u001b[1;36m1\u001b[0m\u001b[1;33m,\u001b[0m\u001b[1;36m2\u001b[0m\u001b[1;33m,\u001b[0m\u001b[1;36m6\u001b[0m\u001b[1;33m,\u001b[0m\u001b[1;36m7\u001b[0m\u001b[1;33m,\u001b[0m\u001b[1;36m8\u001b[0m\u001b[1;33m,\u001b[0m\u001b[1;36m10\u001b[0m\u001b[1;33m]\u001b[0m\u001b[1;33m)\u001b[0m\u001b[1;33m\u001b[0m\u001b[0m\n\u001b[0;32m      6\u001b[0m \u001b[0mX\u001b[0m \u001b[1;33m=\u001b[0m \u001b[0monehotencoder\u001b[0m\u001b[1;33m.\u001b[0m\u001b[0mfit_transform\u001b[0m\u001b[1;33m(\u001b[0m\u001b[0mX\u001b[0m\u001b[1;33m)\u001b[0m\u001b[1;33m.\u001b[0m\u001b[0mtoarray\u001b[0m\u001b[1;33m(\u001b[0m\u001b[1;33m)\u001b[0m\u001b[1;33m\u001b[0m\u001b[0m\n",
      "\u001b[1;32m~\\AppData\\Local\\Continuum\\anaconda3\\lib\\site-packages\\pandas\\core\\frame.py\u001b[0m in \u001b[0;36m__getitem__\u001b[1;34m(self, key)\u001b[0m\n\u001b[0;32m   1962\u001b[0m             \u001b[1;32mreturn\u001b[0m \u001b[0mself\u001b[0m\u001b[1;33m.\u001b[0m\u001b[0m_getitem_multilevel\u001b[0m\u001b[1;33m(\u001b[0m\u001b[0mkey\u001b[0m\u001b[1;33m)\u001b[0m\u001b[1;33m\u001b[0m\u001b[0m\n\u001b[0;32m   1963\u001b[0m         \u001b[1;32melse\u001b[0m\u001b[1;33m:\u001b[0m\u001b[1;33m\u001b[0m\u001b[0m\n\u001b[1;32m-> 1964\u001b[1;33m             \u001b[1;32mreturn\u001b[0m \u001b[0mself\u001b[0m\u001b[1;33m.\u001b[0m\u001b[0m_getitem_column\u001b[0m\u001b[1;33m(\u001b[0m\u001b[0mkey\u001b[0m\u001b[1;33m)\u001b[0m\u001b[1;33m\u001b[0m\u001b[0m\n\u001b[0m\u001b[0;32m   1965\u001b[0m \u001b[1;33m\u001b[0m\u001b[0m\n\u001b[0;32m   1966\u001b[0m     \u001b[1;32mdef\u001b[0m \u001b[0m_getitem_column\u001b[0m\u001b[1;33m(\u001b[0m\u001b[0mself\u001b[0m\u001b[1;33m,\u001b[0m \u001b[0mkey\u001b[0m\u001b[1;33m)\u001b[0m\u001b[1;33m:\u001b[0m\u001b[1;33m\u001b[0m\u001b[0m\n",
      "\u001b[1;32m~\\AppData\\Local\\Continuum\\anaconda3\\lib\\site-packages\\pandas\\core\\frame.py\u001b[0m in \u001b[0;36m_getitem_column\u001b[1;34m(self, key)\u001b[0m\n\u001b[0;32m   1969\u001b[0m         \u001b[1;31m# get column\u001b[0m\u001b[1;33m\u001b[0m\u001b[1;33m\u001b[0m\u001b[0m\n\u001b[0;32m   1970\u001b[0m         \u001b[1;32mif\u001b[0m \u001b[0mself\u001b[0m\u001b[1;33m.\u001b[0m\u001b[0mcolumns\u001b[0m\u001b[1;33m.\u001b[0m\u001b[0mis_unique\u001b[0m\u001b[1;33m:\u001b[0m\u001b[1;33m\u001b[0m\u001b[0m\n\u001b[1;32m-> 1971\u001b[1;33m             \u001b[1;32mreturn\u001b[0m \u001b[0mself\u001b[0m\u001b[1;33m.\u001b[0m\u001b[0m_get_item_cache\u001b[0m\u001b[1;33m(\u001b[0m\u001b[0mkey\u001b[0m\u001b[1;33m)\u001b[0m\u001b[1;33m\u001b[0m\u001b[0m\n\u001b[0m\u001b[0;32m   1972\u001b[0m \u001b[1;33m\u001b[0m\u001b[0m\n\u001b[0;32m   1973\u001b[0m         \u001b[1;31m# duplicate columns & possible reduce dimensionality\u001b[0m\u001b[1;33m\u001b[0m\u001b[1;33m\u001b[0m\u001b[0m\n",
      "\u001b[1;32m~\\AppData\\Local\\Continuum\\anaconda3\\lib\\site-packages\\pandas\\core\\generic.py\u001b[0m in \u001b[0;36m_get_item_cache\u001b[1;34m(self, item)\u001b[0m\n\u001b[0;32m   1641\u001b[0m         \u001b[1;34m\"\"\"Return the cached item, item represents a label indexer.\"\"\"\u001b[0m\u001b[1;33m\u001b[0m\u001b[0m\n\u001b[0;32m   1642\u001b[0m         \u001b[0mcache\u001b[0m \u001b[1;33m=\u001b[0m \u001b[0mself\u001b[0m\u001b[1;33m.\u001b[0m\u001b[0m_item_cache\u001b[0m\u001b[1;33m\u001b[0m\u001b[0m\n\u001b[1;32m-> 1643\u001b[1;33m         \u001b[0mres\u001b[0m \u001b[1;33m=\u001b[0m \u001b[0mcache\u001b[0m\u001b[1;33m.\u001b[0m\u001b[0mget\u001b[0m\u001b[1;33m(\u001b[0m\u001b[0mitem\u001b[0m\u001b[1;33m)\u001b[0m\u001b[1;33m\u001b[0m\u001b[0m\n\u001b[0m\u001b[0;32m   1644\u001b[0m         \u001b[1;32mif\u001b[0m \u001b[0mres\u001b[0m \u001b[1;32mis\u001b[0m \u001b[1;32mNone\u001b[0m\u001b[1;33m:\u001b[0m\u001b[1;33m\u001b[0m\u001b[0m\n\u001b[0;32m   1645\u001b[0m             \u001b[0mvalues\u001b[0m \u001b[1;33m=\u001b[0m \u001b[0mself\u001b[0m\u001b[1;33m.\u001b[0m\u001b[0m_data\u001b[0m\u001b[1;33m.\u001b[0m\u001b[0mget\u001b[0m\u001b[1;33m(\u001b[0m\u001b[0mitem\u001b[0m\u001b[1;33m)\u001b[0m\u001b[1;33m\u001b[0m\u001b[0m\n",
      "\u001b[1;31mTypeError\u001b[0m: unhashable type: 'slice'"
     ]
    }
   ],
   "source": [
    "from sklearn.preprocessing import LabelEncoder,OneHotEncoder\n",
    "labelencoder = LabelEncoder()\n",
    "X[:,0] = labelencoder.fit_transform(X[:,0,1,2,6,7,8,10]])\n",
    "onehotencoder = OneHotEncoder([0,1,2,6,7,8,10])\n",
    "X = onehotencoder.fit_transform(X).toarray()\n",
    "X\n"
   ]
  },
  {
   "cell_type": "code",
   "execution_count": null,
   "metadata": {
    "collapsed": true
   },
   "outputs": [],
   "source": [
    "# df['Dep_Time'] = pd.to_datetime(df['Dep_Time'],format= '%H:%M' ).dt.time\n",
    "# df['Dept_new']=-1\n",
    "\n",
    "# df.loc[(df['Dep_Time']>'04:00')&(df['Dep_Time']<='08:00'),'Dept_new']=0 #early morning\n",
    "# df.loc[(df['Dep_Time']>'08:00')&(df['Dep_Time']<='12:00'),'Dept_new']=1 #morning\n",
    "# df.loc[(df['Dep_Time']>'12:00')&(df['Dep_Time']<='18:00'),'Dept_new']=2 #afternoon\n",
    "# df.loc[(df['Dep_Time']>'18:00')&(df['Dep_Time']<='21:00'),'Dept_new']=3 # early evening\n",
    "# df.loc[(df['Dep_Time']>'21:00')&(df['Dep_Time']<='00:00'),'Dept_new']=4 # night\n",
    "# df.loc[(df['Dep_Time']>'00:00')&(df['Dep_Time']<='04:00'),'Dept_new']=5 # late night\n",
    "\n",
    "# #----------------------------------------------------------------\n",
    "# df['Arrival_new']=-1\n",
    "# df.loc[(df['Arrival_Time']>'04:00')&(df['Arrival_Time']<='08:00'),'Arrival_new']=0 #early morning\n",
    "# df.loc[(df['Arrival_Time']>'08:00')&(df['Arrival_Time']<='12:00'),'Arrival_new']=1 #morning\n",
    "# df.loc[(df['Arrival_Time']>'12:00')&(df['Arrival_Time']<='18:00'),'Arrival_new']=2 #afternoon\n",
    "# df.loc[(df['Arrival_Time']>'18:00')&(df['Arrival_Time']<='21:00'),'Arrival_new']=3 # early evening\n",
    "# df.loc[(df['Arrival_Time']>'21:00')&(df['Arrival_Time']<='24:00'),'Arrival_new']=4 # night\n",
    "# df.loc[(df['Arrival_Time']>'24:00')&(df['Arrival_Time']<='04:00'),'Arrival_new']=5 # late night\n",
    "\n",
    "# df[df['Dept_new']==-1]"
   ]
  },
  {
   "cell_type": "code",
   "execution_count": null,
   "metadata": {},
   "outputs": [],
   "source": [
    "new_df = df.drop(['Dep_Time','Arrival_Time'],axis=1)\n",
    "new_df.head(3)"
   ]
  },
  {
   "cell_type": "code",
   "execution_count": null,
   "metadata": {},
   "outputs": [],
   "source": [
    "sns.jointplot(x='Price',y='Airline',data=new_df)\n",
    "# seaborn. scatterplot (x=None, y=None, hue=None, style=None, size=None, data=None, "
   ]
  },
  {
   "cell_type": "code",
   "execution_count": null,
   "metadata": {
    "collapsed": true
   },
   "outputs": [],
   "source": [
    "# ,'Destination' ,'Duration', 'Month' ,'IsHoliday'\n",
    "x = new_df.drop(['Price'],axis=1)\n",
    "y = new_df['Price']"
   ]
  },
  {
   "cell_type": "code",
   "execution_count": null,
   "metadata": {
    "collapsed": true
   },
   "outputs": [],
   "source": [
    "from sklearn.model_selection import train_test_split\n",
    "x_train,x_test,y_train,y_test = train_test_split(x,y,test_size=.3,random_state=11)"
   ]
  },
  {
   "cell_type": "code",
   "execution_count": null,
   "metadata": {
    "collapsed": true
   },
   "outputs": [],
   "source": [
    "from sklearn.linear_model import LinearRegression\n",
    "model = LinearRegression()\n"
   ]
  },
  {
   "cell_type": "code",
   "execution_count": null,
   "metadata": {
    "collapsed": true
   },
   "outputs": [],
   "source": [
    "q = model.fit(x_train,y_train)"
   ]
  },
  {
   "cell_type": "code",
   "execution_count": null,
   "metadata": {
    "collapsed": true
   },
   "outputs": [],
   "source": [
    "predictions = q.predict(x_test)"
   ]
  },
  {
   "cell_type": "markdown",
   "metadata": {},
   "source": []
  },
  {
   "cell_type": "code",
   "execution_count": null,
   "metadata": {},
   "outputs": [],
   "source": [
    "q.coef_\n",
    "coeff_df = pd.DataFrame(q.coef_,x.columns,columns=['Coeff'])\n",
    "coeff_df"
   ]
  },
  {
   "cell_type": "code",
   "execution_count": null,
   "metadata": {},
   "outputs": [],
   "source": [
    "# from sklearn.metrics.mean_squared_error import \n",
    "import math\n",
    "from sklearn.metrics import mean_squared_error\n",
    "print('MSE-> ',mean_squared_error(y_test,predictions))\n",
    "print('RMSE-> ',math.sqrt(mean_squared_error(y_test,predictions)))"
   ]
  },
  {
   "cell_type": "code",
   "execution_count": null,
   "metadata": {},
   "outputs": [],
   "source": [
    "from sklearn.metrics import r2_score\n",
    "r2 = r2_score(y_test,predictions)\n",
    "print('r2_score-> ',r2)"
   ]
  },
  {
   "cell_type": "code",
   "execution_count": null,
   "metadata": {},
   "outputs": [],
   "source": [
    "print('Accuracy ->',(1-r2)*100)"
   ]
  },
  {
   "cell_type": "code",
   "execution_count": null,
   "metadata": {},
   "outputs": [],
   "source": [
    "fig = plt.figure()\n",
    "\n",
    "plt.scatter(predictions,y_test,lw=.5,color='red',edgecolors='black')"
   ]
  },
  {
   "cell_type": "code",
   "execution_count": null,
   "metadata": {},
   "outputs": [],
   "source": [
    "sns.distplot(y_test-predictions)"
   ]
  },
  {
   "cell_type": "code",
   "execution_count": null,
   "metadata": {},
   "outputs": [],
   "source": [
    "df['Month'].unique()"
   ]
  }
 ],
 "metadata": {
  "kernelspec": {
   "display_name": "Python 3",
   "language": "python",
   "name": "python3"
  },
  "language_info": {
   "codemirror_mode": {
    "name": "ipython",
    "version": 3
   },
   "file_extension": ".py",
   "mimetype": "text/x-python",
   "name": "python",
   "nbconvert_exporter": "python",
   "pygments_lexer": "ipython3",
   "version": "3.6.3"
  }
 },
 "nbformat": 4,
 "nbformat_minor": 2
}
